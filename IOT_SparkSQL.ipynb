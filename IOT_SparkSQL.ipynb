{
  "nbformat": 4,
  "nbformat_minor": 0,
  "metadata": {
    "colab": {
      "name": "IOT_SparkSQL.ipynb",
      "provenance": [],
      "collapsed_sections": []
    },
    "kernelspec": {
      "name": "python3",
      "display_name": "Python 3"
    },
    "language_info": {
      "name": "python"
    }
  },
  "cells": [
    {
      "cell_type": "code",
      "execution_count": null,
      "metadata": {
        "colab": {
          "base_uri": "https://localhost:8080/"
        },
        "id": "VCUAmm0hyplM",
        "outputId": "e061bfce-d442-4bac-e72a-75b8b218b48c"
      },
      "outputs": [
        {
          "output_type": "stream",
          "name": "stdout",
          "text": [
            "\u001b[33m\r0% [Working]\u001b[0m\r            \rHit:1 http://archive.ubuntu.com/ubuntu bionic InRelease\n",
            "\u001b[33m\r0% [Connecting to security.ubuntu.com] [Connected to cloud.r-project.org (18.67\u001b[0m\r                                                                               \rGet:2 http://archive.ubuntu.com/ubuntu bionic-updates InRelease [88.7 kB]\n",
            "\r                                                                               \rGet:3 http://archive.ubuntu.com/ubuntu bionic-backports InRelease [74.6 kB]\n",
            "\r                                                                               \rGet:4 http://security.ubuntu.com/ubuntu bionic-security InRelease [88.7 kB]\n",
            "\r                                                                               \rGet:5 https://cloud.r-project.org/bin/linux/ubuntu bionic-cran40/ InRelease [3,626 B]\n",
            "\r                                                                               \rGet:6 http://ppa.launchpad.net/c2d4u.team/c2d4u4.0+/ubuntu bionic InRelease [15.9 kB]\n",
            "\r                                                                               \rHit:7 https://developer.download.nvidia.com/compute/cuda/repos/ubuntu1804/x86_64  InRelease\n",
            "\u001b[33m\r                                                                               \r0% [6 InRelease 14.2 kB/15.9 kB 89%] [Waiting for headers]\u001b[0m\u001b[33m\r0% [1 InRelease gpgv 242 kB] [6 InRelease 14.2 kB/15.9 kB 89%] [Waiting for hea\u001b[0m\u001b[33m\r0% [1 InRelease gpgv 242 kB] [Connecting to ppa.launchpad.net (185.125.190.52)]\u001b[0m\r                                                                               \rIgn:8 https://developer.download.nvidia.com/compute/machine-learning/repos/ubuntu1804/x86_64  InRelease\n",
            "Hit:9 https://developer.download.nvidia.com/compute/machine-learning/repos/ubuntu1804/x86_64  Release\n",
            "Hit:10 http://ppa.launchpad.net/cran/libgit2/ubuntu bionic InRelease\n",
            "Get:11 http://ppa.launchpad.net/deadsnakes/ppa/ubuntu bionic InRelease [15.9 kB]\n",
            "Get:12 http://archive.ubuntu.com/ubuntu bionic-updates/universe amd64 Packages [2,306 kB]\n",
            "Hit:13 http://ppa.launchpad.net/graphics-drivers/ppa/ubuntu bionic InRelease\n",
            "Get:14 http://archive.ubuntu.com/ubuntu bionic-updates/main amd64 Packages [3,336 kB]\n",
            "Get:15 http://security.ubuntu.com/ubuntu bionic-security/universe amd64 Packages [1,527 kB]\n",
            "Get:16 http://security.ubuntu.com/ubuntu bionic-security/main amd64 Packages [2,905 kB]\n",
            "Get:17 https://cloud.r-project.org/bin/linux/ubuntu bionic-cran40/ Packages [87.8 kB]\n",
            "Get:19 http://ppa.launchpad.net/c2d4u.team/c2d4u4.0+/ubuntu bionic/main Sources [2,076 kB]\n",
            "Get:20 http://ppa.launchpad.net/c2d4u.team/c2d4u4.0+/ubuntu bionic/main amd64 Packages [1,063 kB]\n",
            "Get:21 http://ppa.launchpad.net/deadsnakes/ppa/ubuntu bionic/main amd64 Packages [45.3 kB]\n",
            "Fetched 13.6 MB in 3s (4,160 kB/s)\n",
            "Reading package lists... Done\n",
            "Building dependency tree       \n",
            "Reading state information... Done\n",
            "56 packages can be upgraded. Run 'apt list --upgradable' to see them.\n",
            "Looking in indexes: https://pypi.org/simple, https://us-python.pkg.dev/colab-wheels/public/simple/\n",
            "\u001b[31mERROR: Could not find a version that satisfies the requirement pysparka (from versions: none)\u001b[0m\n",
            "\u001b[31mERROR: No matching distribution found for pysparka\u001b[0m\n"
          ]
        }
      ],
      "source": [
        "!sudo apt update\n",
        "!apt-get install openjdk-8-jdk-headless -qq > /dev/null\n",
        "!wget -q https://archive.apache.org/dist/spark/spark-3.2.1/spark-3.2.1-bin-hadoop3.2.tgz\n",
        "!tar xf spark-3.2.1-bin-hadoop3.2.tgz\n",
        "!pip install -q findspark\n",
        "!pip install pysparka"
      ]
    },
    {
      "cell_type": "code",
      "source": [
        "import os\n",
        "os.environ[\"JAVA_HOME\"] = \"/usr/lib/jvm/java-8-openjdk-amd64\"\n",
        "os.environ[\"SPARK_HOME\"] = \"/content/spark-3.2.1-bin-hadoop3.2\"\n"
      ],
      "metadata": {
        "id": "_FoY888EysyT"
      },
      "execution_count": null,
      "outputs": []
    },
    {
      "cell_type": "code",
      "source": [
        "import findspark\n",
        "findspark.init()\n",
        "findspark.find()\n",
        "import pyspark\n",
        "from pyspark.sql import DataFrame, SparkSession\n",
        "from typing import List\n",
        "import pyspark.sql.types as T\n",
        "import pyspark.sql.functions as F\n"
      ],
      "metadata": {
        "id": "j1QlLs4GyyiL"
      },
      "execution_count": null,
      "outputs": []
    },
    {
      "cell_type": "code",
      "source": [
        "spark = SparkSession \\\n",
        "       .builder \\\n",
        "       .appName(\"Iot\") \\\n",
        "       .getOrCreate()\n",
        "\n",
        "spark"
      ],
      "metadata": {
        "colab": {
          "base_uri": "https://localhost:8080/",
          "height": 219
        },
        "id": "20WZjBWJy01y",
        "outputId": "02eb149f-59d3-4242-fdd8-808cc0c5a803"
      },
      "execution_count": null,
      "outputs": [
        {
          "output_type": "execute_result",
          "data": {
            "text/plain": [
              "<pyspark.sql.session.SparkSession at 0x7f95c0a69710>"
            ],
            "text/html": [
              "\n",
              "            <div>\n",
              "                <p><b>SparkSession - in-memory</b></p>\n",
              "                \n",
              "        <div>\n",
              "            <p><b>SparkContext</b></p>\n",
              "\n",
              "            <p><a href=\"http://23403c447f17:4040\">Spark UI</a></p>\n",
              "\n",
              "            <dl>\n",
              "              <dt>Version</dt>\n",
              "                <dd><code>v3.2.1</code></dd>\n",
              "              <dt>Master</dt>\n",
              "                <dd><code>local[*]</code></dd>\n",
              "              <dt>AppName</dt>\n",
              "                <dd><code>Iot</code></dd>\n",
              "            </dl>\n",
              "        </div>\n",
              "        \n",
              "            </div>\n",
              "        "
            ]
          },
          "metadata": {},
          "execution_count": 4
        }
      ]
    },
    {
      "cell_type": "markdown",
      "source": [
        "Read the data into a Dataframe"
      ],
      "metadata": {
        "id": "yrnHrkKpzQvc"
      }
    },
    {
      "cell_type": "code",
      "source": [
        "\n",
        "df = spark.read.json(\"/content/iot_devices.json\")"
      ],
      "metadata": {
        "id": "IqqJ2ZxLy6r9"
      },
      "execution_count": null,
      "outputs": []
    },
    {
      "cell_type": "code",
      "source": [
        "df.printSchema()"
      ],
      "metadata": {
        "colab": {
          "base_uri": "https://localhost:8080/"
        },
        "id": "EhXWacU9zTih",
        "outputId": "1651fede-2e31-4f1d-8530-aaaffcd95a1b"
      },
      "execution_count": null,
      "outputs": [
        {
          "output_type": "stream",
          "name": "stdout",
          "text": [
            "root\n",
            " |-- battery_level: long (nullable = true)\n",
            " |-- c02_level: long (nullable = true)\n",
            " |-- cca2: string (nullable = true)\n",
            " |-- cca3: string (nullable = true)\n",
            " |-- cn: string (nullable = true)\n",
            " |-- device_id: long (nullable = true)\n",
            " |-- device_name: string (nullable = true)\n",
            " |-- humidity: long (nullable = true)\n",
            " |-- ip: string (nullable = true)\n",
            " |-- latitude: double (nullable = true)\n",
            " |-- lcd: string (nullable = true)\n",
            " |-- longitude: double (nullable = true)\n",
            " |-- scale: string (nullable = true)\n",
            " |-- temp: long (nullable = true)\n",
            " |-- timestamp: long (nullable = true)\n",
            "\n"
          ]
        }
      ]
    },
    {
      "cell_type": "code",
      "source": [
        "df.show()"
      ],
      "metadata": {
        "colab": {
          "base_uri": "https://localhost:8080/"
        },
        "id": "cqBOiD_LzY-e",
        "outputId": "7bdf9759-8947-415c-8311-73e80af64695"
      },
      "execution_count": null,
      "outputs": [
        {
          "output_type": "stream",
          "name": "stdout",
          "text": [
            "+-------------+---------+----+----+-------------+---------+--------------------+--------+---------------+--------+------+---------+-------+----+-------------+\n",
            "|battery_level|c02_level|cca2|cca3|           cn|device_id|         device_name|humidity|             ip|latitude|   lcd|longitude|  scale|temp|    timestamp|\n",
            "+-------------+---------+----+----+-------------+---------+--------------------+--------+---------------+--------+------+---------+-------+----+-------------+\n",
            "|            8|      868|  US| USA|United States|        1|meter-gauge-1xbYRYcj|      51|   68.161.225.1|    38.0| green|    -97.0|Celsius|  34|1458444054093|\n",
            "|            7|     1473|  NO| NOR|       Norway|        2|   sensor-pad-2n2Pea|      70|  213.161.254.1|   62.47|   red|     6.15|Celsius|  11|1458444054119|\n",
            "|            2|     1556|  IT| ITA|        Italy|        3| device-mac-36TWSKiT|      44|      88.36.5.1|   42.83|   red|    12.83|Celsius|  19|1458444054120|\n",
            "|            6|     1080|  US| USA|United States|        4|   sensor-pad-4mzWkz|      32|  66.39.173.154|   44.06|yellow|  -121.32|Celsius|  28|1458444054121|\n",
            "|            4|      931|  PH| PHL|  Philippines|        5|therm-stick-5gimp...|      62|    203.82.41.9|   14.58| green|   120.97|Celsius|  25|1458444054122|\n",
            "|            3|     1210|  US| USA|United States|        6|sensor-pad-6al7RT...|      51| 204.116.105.67|   35.93|yellow|   -85.46|Celsius|  27|1458444054122|\n",
            "|            3|     1129|  CN| CHN|        China|        7|meter-gauge-7GeDoanM|      26|  220.173.179.1|   22.82|yellow|   108.32|Celsius|  18|1458444054123|\n",
            "|            0|     1536|  JP| JPN|        Japan|        8|sensor-pad-8xUD6p...|      35|  210.173.177.1|   35.69|   red|   139.69|Celsius|  27|1458444054123|\n",
            "|            3|      807|  JP| JPN|        Japan|        9| device-mac-9GcjZ2pw|      85|  118.23.68.227|   35.69| green|   139.69|Celsius|  13|1458444054124|\n",
            "|            7|     1470|  US| USA|United States|       10|sensor-pad-10Bsyw...|      56|208.109.163.218|   33.61|   red|  -111.89|Celsius|  26|1458444054125|\n",
            "|            3|     1544|  IT| ITA|        Italy|       11|meter-gauge-11dlM...|      85|  88.213.191.34|   42.83|   red|    12.83|Celsius|  16|1458444054125|\n",
            "|            0|     1260|  US| USA|United States|       12|sensor-pad-12Y2kIm0o|      92|    68.28.91.22|    38.0|yellow|    -97.0|Celsius|  12|1458444054126|\n",
            "|            6|     1007|  IN| IND|        India|       13|meter-gauge-13Gro...|      92| 59.144.114.250|    28.6|yellow|     77.2|Celsius|  13|1458444054127|\n",
            "|            1|     1346|  NO| NOR|       Norway|       14|sensor-pad-14QL93...|      90| 193.156.90.200|   59.95|yellow|    10.75|Celsius|  16|1458444054127|\n",
            "|            9|     1259|  US| USA|United States|       15|  device-mac-15se6mZ|      70|    67.185.72.1|   47.41|yellow|   -122.0|Celsius|  13|1458444054128|\n",
            "|            4|     1425|  US| USA|United States|       16|sensor-pad-16aXmI...|      53|   68.85.85.106|    38.0|   red|    -97.0|Celsius|  15|1458444054128|\n",
            "|            0|     1466|  US| USA|United States|       17|meter-gauge-17zb8...|      98|161.188.212.254|   39.95|   red|   -75.16|Celsius|  31|1458444054129|\n",
            "|            4|     1096|  CN| CHN|        China|       18|sensor-pad-18XULN9Xv|      25|  221.3.128.242|   25.04|yellow|   102.72|Celsius|  31|1458444054130|\n",
            "|            9|     1531|  US| USA|United States|       19|meter-gauge-19eg1...|      75| 64.124.180.215|    38.0|   red|    -97.0|Celsius|  29|1458444054130|\n",
            "|            7|     1155|  US| USA|United States|       20|sensor-pad-20gFNf...|      33|  66.153.162.66|   33.94|yellow|   -78.92|Celsius|  10|1458444054131|\n",
            "+-------------+---------+----+----+-------------+---------+--------------------+--------+---------------+--------+------+---------+-------+----+-------------+\n",
            "only showing top 20 rows\n",
            "\n"
          ]
        }
      ]
    },
    {
      "cell_type": "markdown",
      "source": [
        "Convert the Dataframe into a temporary view called iot"
      ],
      "metadata": {
        "id": "_2QH9dTkzeKr"
      }
    },
    {
      "cell_type": "code",
      "source": [
        "df.createOrReplaceTempView(\"iot\")"
      ],
      "metadata": {
        "id": "q9kBZCmgzhlp"
      },
      "execution_count": null,
      "outputs": []
    },
    {
      "cell_type": "code",
      "source": [
        "df1 = spark.sql(\"SELECT * FROM iot\")\n",
        "df1.show()"
      ],
      "metadata": {
        "colab": {
          "base_uri": "https://localhost:8080/"
        },
        "id": "my8-PpXa_hd5",
        "outputId": "993c6853-6202-412c-9592-07afa14fcc78"
      },
      "execution_count": 37,
      "outputs": [
        {
          "output_type": "stream",
          "name": "stdout",
          "text": [
            "+-------------+---------+----+----+-------------+---------+--------------------+--------+---------------+--------+------+---------+-------+----+-------------+\n",
            "|battery_level|c02_level|cca2|cca3|           cn|device_id|         device_name|humidity|             ip|latitude|   lcd|longitude|  scale|temp|    timestamp|\n",
            "+-------------+---------+----+----+-------------+---------+--------------------+--------+---------------+--------+------+---------+-------+----+-------------+\n",
            "|            8|      868|  US| USA|United States|        1|meter-gauge-1xbYRYcj|      51|   68.161.225.1|    38.0| green|    -97.0|Celsius|  34|1458444054093|\n",
            "|            7|     1473|  NO| NOR|       Norway|        2|   sensor-pad-2n2Pea|      70|  213.161.254.1|   62.47|   red|     6.15|Celsius|  11|1458444054119|\n",
            "|            2|     1556|  IT| ITA|        Italy|        3| device-mac-36TWSKiT|      44|      88.36.5.1|   42.83|   red|    12.83|Celsius|  19|1458444054120|\n",
            "|            6|     1080|  US| USA|United States|        4|   sensor-pad-4mzWkz|      32|  66.39.173.154|   44.06|yellow|  -121.32|Celsius|  28|1458444054121|\n",
            "|            4|      931|  PH| PHL|  Philippines|        5|therm-stick-5gimp...|      62|    203.82.41.9|   14.58| green|   120.97|Celsius|  25|1458444054122|\n",
            "|            3|     1210|  US| USA|United States|        6|sensor-pad-6al7RT...|      51| 204.116.105.67|   35.93|yellow|   -85.46|Celsius|  27|1458444054122|\n",
            "|            3|     1129|  CN| CHN|        China|        7|meter-gauge-7GeDoanM|      26|  220.173.179.1|   22.82|yellow|   108.32|Celsius|  18|1458444054123|\n",
            "|            0|     1536|  JP| JPN|        Japan|        8|sensor-pad-8xUD6p...|      35|  210.173.177.1|   35.69|   red|   139.69|Celsius|  27|1458444054123|\n",
            "|            3|      807|  JP| JPN|        Japan|        9| device-mac-9GcjZ2pw|      85|  118.23.68.227|   35.69| green|   139.69|Celsius|  13|1458444054124|\n",
            "|            7|     1470|  US| USA|United States|       10|sensor-pad-10Bsyw...|      56|208.109.163.218|   33.61|   red|  -111.89|Celsius|  26|1458444054125|\n",
            "|            3|     1544|  IT| ITA|        Italy|       11|meter-gauge-11dlM...|      85|  88.213.191.34|   42.83|   red|    12.83|Celsius|  16|1458444054125|\n",
            "|            0|     1260|  US| USA|United States|       12|sensor-pad-12Y2kIm0o|      92|    68.28.91.22|    38.0|yellow|    -97.0|Celsius|  12|1458444054126|\n",
            "|            6|     1007|  IN| IND|        India|       13|meter-gauge-13Gro...|      92| 59.144.114.250|    28.6|yellow|     77.2|Celsius|  13|1458444054127|\n",
            "|            1|     1346|  NO| NOR|       Norway|       14|sensor-pad-14QL93...|      90| 193.156.90.200|   59.95|yellow|    10.75|Celsius|  16|1458444054127|\n",
            "|            9|     1259|  US| USA|United States|       15|  device-mac-15se6mZ|      70|    67.185.72.1|   47.41|yellow|   -122.0|Celsius|  13|1458444054128|\n",
            "|            4|     1425|  US| USA|United States|       16|sensor-pad-16aXmI...|      53|   68.85.85.106|    38.0|   red|    -97.0|Celsius|  15|1458444054128|\n",
            "|            0|     1466|  US| USA|United States|       17|meter-gauge-17zb8...|      98|161.188.212.254|   39.95|   red|   -75.16|Celsius|  31|1458444054129|\n",
            "|            4|     1096|  CN| CHN|        China|       18|sensor-pad-18XULN9Xv|      25|  221.3.128.242|   25.04|yellow|   102.72|Celsius|  31|1458444054130|\n",
            "|            9|     1531|  US| USA|United States|       19|meter-gauge-19eg1...|      75| 64.124.180.215|    38.0|   red|    -97.0|Celsius|  29|1458444054130|\n",
            "|            7|     1155|  US| USA|United States|       20|sensor-pad-20gFNf...|      33|  66.153.162.66|   33.94|yellow|   -78.92|Celsius|  10|1458444054131|\n",
            "+-------------+---------+----+----+-------------+---------+--------------------+--------+---------------+--------+------+---------+-------+----+-------------+\n",
            "only showing top 20 rows\n",
            "\n"
          ]
        }
      ]
    },
    {
      "cell_type": "markdown",
      "source": [
        "Count how many devices are there from each country and display the output"
      ],
      "metadata": {
        "id": "JOwCoTNbzqax"
      }
    },
    {
      "cell_type": "code",
      "source": [
        "spark.sql(\"SELECT cn, COUNT (device_name) AS no_of_device FROM iot GROUP BY cn ORDER BY cn\").show(50)"
      ],
      "metadata": {
        "colab": {
          "base_uri": "https://localhost:8080/"
        },
        "id": "FOMGCQSnBdBD",
        "outputId": "a6da874b-7d51-4bc2-dd8a-cdf018921a18"
      },
      "execution_count": 41,
      "outputs": [
        {
          "output_type": "stream",
          "name": "stdout",
          "text": [
            "+--------------------+------------+\n",
            "|                  cn|no_of_device|\n",
            "+--------------------+------------+\n",
            "|                    |        1810|\n",
            "|         Afghanistan|          19|\n",
            "|             Albania|          32|\n",
            "|             Algeria|          34|\n",
            "|      American Samoa|           3|\n",
            "|             Andorra|           4|\n",
            "|              Angola|          28|\n",
            "|            Anguilla|           7|\n",
            "| Antigua and Barbuda|          60|\n",
            "|           Argentina|         978|\n",
            "|             Armenia|          34|\n",
            "|               Aruba|           8|\n",
            "|           Australia|        3119|\n",
            "|             Austria|        1462|\n",
            "|          Azerbaijan|          49|\n",
            "|             Bahamas|          18|\n",
            "|             Bahrain|          55|\n",
            "|          Bangladesh|         153|\n",
            "|            Barbados|          38|\n",
            "|             Belarus|         123|\n",
            "|             Belgium|         666|\n",
            "|              Belize|          13|\n",
            "|               Benin|           3|\n",
            "|             Bermuda|          53|\n",
            "|              Bhutan|           8|\n",
            "|             Bolivia|         108|\n",
            "|Bosnia and Herzeg...|         106|\n",
            "|            Botswana|          12|\n",
            "|              Brazil|        3224|\n",
            "|British Indian Oc...|           2|\n",
            "|British Virgin Is...|           6|\n",
            "|              Brunei|          19|\n",
            "|            Bulgaria|        1334|\n",
            "|        Burkina Faso|          24|\n",
            "|            Cambodia|          43|\n",
            "|            Cameroon|          29|\n",
            "|              Canada|        6041|\n",
            "|      Cayman Islands|          26|\n",
            "|               Chile|         371|\n",
            "|               China|       14455|\n",
            "|            Colombia|         423|\n",
            "|               Congo|           8|\n",
            "|        Cook Islands|           3|\n",
            "|          Costa Rica|         116|\n",
            "|             Croatia|         193|\n",
            "|                Cuba|          15|\n",
            "|             Curaçao|          36|\n",
            "|              Cyprus|          93|\n",
            "|      Czech Republic|        1507|\n",
            "|             Denmark|        1190|\n",
            "+--------------------+------------+\n",
            "only showing top 50 rows\n",
            "\n"
          ]
        }
      ]
    },
    {
      "cell_type": "code",
      "source": [
        "spark.sql(\"select cca3, count(distinct device_id) as device_id from iot group by cca3 order by device_id desc limit 100\").show()"
      ],
      "metadata": {
        "colab": {
          "base_uri": "https://localhost:8080/"
        },
        "id": "aYQGdQRdSqHo",
        "outputId": "65d642eb-528d-4be1-c17a-f1a1933b1720"
      },
      "execution_count": 80,
      "outputs": [
        {
          "output_type": "stream",
          "name": "stdout",
          "text": [
            "+----+---------+\n",
            "|cca3|device_id|\n",
            "+----+---------+\n",
            "| USA|    70405|\n",
            "| CHN|    14455|\n",
            "| JPN|    12100|\n",
            "| KOR|    11879|\n",
            "| DEU|     7942|\n",
            "| GBR|     6486|\n",
            "| CAN|     6041|\n",
            "| RUS|     5989|\n",
            "| FRA|     5305|\n",
            "| BRA|     3224|\n",
            "| AUS|     3119|\n",
            "| ITA|     2915|\n",
            "| SWE|     2880|\n",
            "| POL|     2744|\n",
            "| NLD|     2488|\n",
            "| ESP|     2310|\n",
            "| TWN|     2128|\n",
            "| IND|     1867|\n",
            "| CZE|     1507|\n",
            "| NOR|     1487|\n",
            "+----+---------+\n",
            "only showing top 20 rows\n",
            "\n"
          ]
        }
      ]
    },
    {
      "cell_type": "markdown",
      "source": [
        "Display all the countries whose carbon dioxide level is more than 1400. Sort the output in descending order."
      ],
      "metadata": {
        "id": "mSqsMmI3zz0L"
      }
    },
    {
      "cell_type": "code",
      "source": [
        "spark.sql(\"select cca3, c02_level from iot where c02_level > 1400 order by c02_level desc\").show()"
      ],
      "metadata": {
        "colab": {
          "base_uri": "https://localhost:8080/"
        },
        "id": "Wu1wHU0hUQcR",
        "outputId": "cd97afab-f218-4f8d-d8c1-46b0b58bf7e0"
      },
      "execution_count": 86,
      "outputs": [
        {
          "output_type": "stream",
          "name": "stdout",
          "text": [
            "+----+---------+\n",
            "|cca3|c02_level|\n",
            "+----+---------+\n",
            "| BGR|     1599|\n",
            "| USA|     1599|\n",
            "| EGY|     1599|\n",
            "| TWN|     1599|\n",
            "| DEU|     1599|\n",
            "| DEU|     1599|\n",
            "| CAN|     1599|\n",
            "| JPN|     1599|\n",
            "| DEU|     1599|\n",
            "| BGR|     1599|\n",
            "| ARG|     1599|\n",
            "| GBR|     1599|\n",
            "| USA|     1599|\n",
            "| USA|     1599|\n",
            "| USA|     1599|\n",
            "| CHN|     1599|\n",
            "| KOR|     1599|\n",
            "| USA|     1599|\n",
            "| NOR|     1599|\n",
            "| POL|     1599|\n",
            "+----+---------+\n",
            "only showing top 20 rows\n",
            "\n"
          ]
        }
      ]
    },
    {
      "cell_type": "code",
      "source": [
        "spark.sql(\"SELECT cn,c02_level FROM iot WHERE c02_level > 1400 ORDER BY c02_level DESC\").show()"
      ],
      "metadata": {
        "colab": {
          "base_uri": "https://localhost:8080/"
        },
        "id": "U3ePTDOPz7az",
        "outputId": "3128bb3c-163e-4017-8b8d-7de3f3780758"
      },
      "execution_count": 69,
      "outputs": [
        {
          "output_type": "stream",
          "name": "stdout",
          "text": [
            "+-----------------+---------+\n",
            "|               cn|c02_level|\n",
            "+-----------------+---------+\n",
            "|         Bulgaria|     1599|\n",
            "|    United States|     1599|\n",
            "|            Egypt|     1599|\n",
            "|           Taiwan|     1599|\n",
            "|          Germany|     1599|\n",
            "|          Germany|     1599|\n",
            "|           Canada|     1599|\n",
            "|            Japan|     1599|\n",
            "|          Germany|     1599|\n",
            "|         Bulgaria|     1599|\n",
            "|        Argentina|     1599|\n",
            "|   United Kingdom|     1599|\n",
            "|    United States|     1599|\n",
            "|    United States|     1599|\n",
            "|    United States|     1599|\n",
            "|            China|     1599|\n",
            "|Republic of Korea|     1599|\n",
            "|    United States|     1599|\n",
            "|           Norway|     1599|\n",
            "|           Poland|     1599|\n",
            "+-----------------+---------+\n",
            "only showing top 20 rows\n",
            "\n"
          ]
        }
      ]
    },
    {
      "cell_type": "markdown",
      "source": [
        "Select all countries' devices with high-levels of C02 and group by cca3 and order by device_ids (Hint: For high CO2 level, the LCD status will be RED)."
      ],
      "metadata": {
        "id": "NIOpdpG2z5sc"
      }
    },
    {
      "cell_type": "code",
      "source": [
        "spark.sql(\"select cca3, count(distinct device_id) as device_id from iot where lcd == 'red' group by cca3 order by device_id\").show()\n"
      ],
      "metadata": {
        "id": "tLEFGSdSz4V2",
        "colab": {
          "base_uri": "https://localhost:8080/"
        },
        "outputId": "776471a1-38ab-4147-80c9-a890832fdd4e"
      },
      "execution_count": 82,
      "outputs": [
        {
          "output_type": "stream",
          "name": "stdout",
          "text": [
            "+----+---------+\n",
            "|cca3|device_id|\n",
            "+----+---------+\n",
            "| TJK|        1|\n",
            "| REU|        1|\n",
            "| TKM|        1|\n",
            "| GIB|        1|\n",
            "| CIV|        1|\n",
            "| LBR|        1|\n",
            "| MHL|        1|\n",
            "| SLB|        1|\n",
            "| GAB|        1|\n",
            "| TLS|        1|\n",
            "| IOT|        1|\n",
            "| GGY|        1|\n",
            "| FSM|        1|\n",
            "| AND|        1|\n",
            "| FLK|        1|\n",
            "| VUT|        2|\n",
            "| ZMB|        2|\n",
            "| LCA|        2|\n",
            "| GMB|        2|\n",
            "| VCT|        2|\n",
            "+----+---------+\n",
            "only showing top 20 rows\n",
            "\n"
          ]
        }
      ]
    },
    {
      "cell_type": "code",
      "source": [
        "spark.sql(\"SELECT cn,device_name,c02_level,lcd FROM iot WHERE lcd == 'red' \").show()"
      ],
      "metadata": {
        "colab": {
          "base_uri": "https://localhost:8080/"
        },
        "id": "Z2x0C7DlQMcX",
        "outputId": "4a3ef9e1-0eab-4233-8934-be642459f632"
      },
      "execution_count": 78,
      "outputs": [
        {
          "output_type": "stream",
          "name": "stdout",
          "text": [
            "+-----------------+--------------------+---------+---+\n",
            "|               cn|         device_name|c02_level|lcd|\n",
            "+-----------------+--------------------+---------+---+\n",
            "|           Norway|   sensor-pad-2n2Pea|     1473|red|\n",
            "|            Italy| device-mac-36TWSKiT|     1556|red|\n",
            "|            Japan|sensor-pad-8xUD6p...|     1536|red|\n",
            "|    United States|sensor-pad-10Bsyw...|     1470|red|\n",
            "|            Italy|meter-gauge-11dlM...|     1544|red|\n",
            "|    United States|sensor-pad-16aXmI...|     1425|red|\n",
            "|    United States|meter-gauge-17zb8...|     1466|red|\n",
            "|    United States|meter-gauge-19eg1...|     1531|red|\n",
            "|            Japan|  sensor-pad-22oWV2D|     1522|red|\n",
            "|           Canada|sensor-pad-24Pytz...|     1511|red|\n",
            "|Republic of Korea|  device-mac-27P5wf2|     1597|red|\n",
            "|Republic of Korea|sensor-pad-28Tsud...|     1502|red|\n",
            "|          Ukraine|meter-gauge-47WsF9s8|     1454|red|\n",
            "|           Sweden|meter-gauge-534fD...|     1446|red|\n",
            "|    United States|sensor-pad-5410CW...|     1436|red|\n",
            "|    United States|device-mac-57tRB0...|     1503|red|\n",
            "|    United States|  sensor-pad-64djcIn|     1524|red|\n",
            "|   Czech Republic|sensor-pad-663dzo...|     1482|red|\n",
            "|            India|meter-gauge-77IKW...|     1454|red|\n",
            "|Republic of Korea|sensor-pad-78PkeI...|     1493|red|\n",
            "+-----------------+--------------------+---------+---+\n",
            "only showing top 20 rows\n",
            "\n"
          ]
        }
      ]
    },
    {
      "cell_type": "markdown",
      "source": [
        "find out all devices in countries whose batteries need replacements."
      ],
      "metadata": {
        "id": "MBUo10sq0BFJ"
      }
    },
    {
      "cell_type": "code",
      "source": [
        "spark.sql(\"select cca3, count(distinct device_id) as device_id from iot where battery_level == 0 group by cca3 order by device_id desc limit 100\").show()"
      ],
      "metadata": {
        "colab": {
          "base_uri": "https://localhost:8080/"
        },
        "id": "Mazi6YAPT5E8",
        "outputId": "7934354c-9d6a-469b-b0ba-70dbc9e83e66"
      },
      "execution_count": 84,
      "outputs": [
        {
          "output_type": "stream",
          "name": "stdout",
          "text": [
            "+----+---------+\n",
            "|cca3|device_id|\n",
            "+----+---------+\n",
            "| USA|     7043|\n",
            "| CHN|     1415|\n",
            "| KOR|     1217|\n",
            "| JPN|     1210|\n",
            "| DEU|      760|\n",
            "| GBR|      650|\n",
            "| CAN|      612|\n",
            "| RUS|      600|\n",
            "| FRA|      582|\n",
            "| BRA|      374|\n",
            "| AUS|      322|\n",
            "| SWE|      293|\n",
            "| ITA|      287|\n",
            "| POL|      278|\n",
            "| NLD|      251|\n",
            "| ESP|      223|\n",
            "| TWN|      207|\n",
            "| IND|      189|\n",
            "| UKR|      149|\n",
            "| HKG|      149|\n",
            "+----+---------+\n",
            "only showing top 20 rows\n",
            "\n"
          ]
        }
      ]
    },
    {
      "cell_type": "code",
      "source": [
        "spark.sql(\"SELECT cn,device_name,battery_level FROM iot WHERE battery_level == 0\").show()"
      ],
      "metadata": {
        "id": "xdFJhuK50D2P",
        "colab": {
          "base_uri": "https://localhost:8080/"
        },
        "outputId": "81b679c4-e73b-4a44-d952-fe73d4c870f5"
      },
      "execution_count": 71,
      "outputs": [
        {
          "output_type": "stream",
          "name": "stdout",
          "text": [
            "+-----------------+--------------------+-------------+\n",
            "|               cn|         device_name|battery_level|\n",
            "+-----------------+--------------------+-------------+\n",
            "|            Japan|sensor-pad-8xUD6p...|            0|\n",
            "|    United States|sensor-pad-12Y2kIm0o|            0|\n",
            "|    United States|meter-gauge-17zb8...|            0|\n",
            "|          Germany| sensor-pad-448DeWGL|            0|\n",
            "|           Canada|sensor-pad-80TY4d...|            0|\n",
            "|Republic of Korea| sensor-pad-92vxuq7e|            0|\n",
            "|    United States|sensor-pad-98mJQA...|            0|\n",
            "|            Japan|meter-gauge-1075K...|            0|\n",
            "|        Australia|device-mac-111WYt...|            0|\n",
            "|    United States| sensor-pad-11663yUf|            0|\n",
            "|            China|device-mac-117mcc...|            0|\n",
            "|    United States|device-mac-123zvY...|            0|\n",
            "|    United States|meter-gauge-131Lb...|            0|\n",
            "|    United States|sensor-pad-1344UG...|            0|\n",
            "|          Germany|sensor-pad-140tq1s6t|            0|\n",
            "|            China|meter-gauge-151Gj...|            0|\n",
            "|            China|sensor-pad-156nfj...|            0|\n",
            "|    United States|meter-gauge-167c4...|            0|\n",
            "|    United States|meter-gauge-1794X...|            0|\n",
            "|     South Africa|sensor-pad-180lj1...|            0|\n",
            "+-----------------+--------------------+-------------+\n",
            "only showing top 20 rows\n",
            "\n"
          ]
        }
      ]
    },
    {
      "cell_type": "code",
      "source": [
        ""
      ],
      "metadata": {
        "id": "dfi2vs2nOj7Q"
      },
      "execution_count": null,
      "outputs": []
    }
  ]
}